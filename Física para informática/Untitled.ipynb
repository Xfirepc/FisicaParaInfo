{
 "cells": [
  {
   "cell_type": "markdown",
   "metadata": {},
   "source": [
    "## Efecto Fotoeléctrico\n",
    "Proceso por el cual se libera electrones de un material por la acción de la radiación se denomina **efecto fotoeléctrico** o **emisión fotoeléctrico **."
   ]
  },
  {
   "cell_type": "markdown",
   "metadata": {},
   "source": [
    "### Ejercicio de calentamineto:\n",
    "Demuestra la equivalencia de la relación matemática entre:\n"
   ]
  }
 ],
 "metadata": {
  "authors": [
   {
    "name": "Michelle Elizabeth Pérez Sosa"
   }
  ],
  "description": "Realizar de manera computacional ejercicios que recrean dos experimentos sobre física moderna: el movimiento el movimiento de partículas cargadas en campos magnéticos y el efecto fotoeléctrico.",
  "kernelspec": {
   "display_name": "Python 3",
   "language": "python",
   "name": "python3"
  },
  "language_info": {
   "codemirror_mode": {
    "name": "ipython",
    "version": 3
   },
   "file_extension": ".py",
   "mimetype": "text/x-python",
   "name": "python",
   "nbconvert_exporter": "python",
   "pygments_lexer": "ipython3",
   "version": "3.7.4"
  },
  "nteract": {
   "version": "nteract-on-jupyter@2.1.3"
  },
  "tags": [],
  "title": "Efecto Fotoeléctrico"
 },
 "nbformat": 4,
 "nbformat_minor": 2
}
