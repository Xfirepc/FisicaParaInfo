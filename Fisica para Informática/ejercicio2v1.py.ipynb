{
 "cells": [
  {
   "cell_type": "markdown",
   "metadata": {},
   "source": [
    "# Primer ejercicio"
   ]
  },
  {
   "cell_type": "markdown",
   "metadata": {},
   "source": [
    "## Enunciado"
   ]
  },
  {
   "cell_type": "markdown",
   "metadata": {},
   "source": [
    "Un electrón con una capacidad de trabajo de $72090×10^{−19}$ J orbita de manera perpendicular a un campo magnético de __3250 G__. ¿Cuál es el radio de la órbita? ¿Y su frecuencia y periodo angular? Resuelve el mismo ejercicio para un antineutrón."
   ]
  },
  {
   "cell_type": "markdown",
   "metadata": {},
   "source": [
    "<img src=\"https://i.imgur.com/3cbe7if.gif\" />"
   ]
  },
  {
   "cell_type": "markdown",
   "metadata": {},
   "source": [
    "## Solución desarrollada "
   ]
  },
  {
   "cell_type": "markdown",
   "metadata": {},
   "source": [
    "Lo primero que vamos a desarrollar es el **concepto de Gauss**, se trata de una unidad que mide la fuerza que emite un campo magnético. Si esta es mayor, más fuerte será el campo y a su vez hay más espacio desde el exterior a la superficie de campo.\n",
    "\n",
    "Ejemplos de uso de esta unidad de medida son, el campo magnético de la tierra es de 0,5 Gauss. Un imán pequeño tiene 100 Gauss y uno grande 15.000 Gauss\n",
    "\n",
    "Otra cuestión a tener en cuenta es la **definición de joule**, a saber, la cantidad de trabajo que realiza una fuerza de un Newton en un metro de longitud situada en la misma dirección de dicha fuerza. Por tanto, la capacidad de trabajo define esa unidad de medida.\n",
    "\n",
    "Además, debemos explicitar que **la masa de un electrón es 9.1 x 10-31 Kg**, se trata de una cantidad constante y que para nuestros cálculos también se da como valor conocido.\n",
    "\n",
    "Finalmente explicar que cuando **una partícula cargada se mueve a una velocidad V** en un campo magnético normalmente se curva.\n",
    "\n",
    "Con estas premisas paso a desarrollar el ejercicio planteado:\n",
    "\n",
    "\n",
    "\n"
   ]
  },
  {
   "cell_type": "markdown",
   "metadata": {},
   "source": [
    "Inicializamos el entorno de Python para los cálculos"
   ]
  },
  {
   "cell_type": "code",
   "execution_count": 12,
   "metadata": {},
   "outputs": [
    {
     "name": "stdout",
     "output_type": "stream",
     "text": [
      " Mass (m): 9.1093837015e-31*kilogram\n",
      " Carga (q): 1.602176634e-19*coulomb\n"
     ]
    }
   ],
   "source": [
    "from sympy import*\n",
    "import math\n",
    "from sympy.physics.units import Quantity\n",
    "Gs = Quantity(\"Gauss\")\n",
    "from sympy.physics.units.systems import SI\n",
    "from sympy.physics.units import magnetic_flux_density\n",
    "SI.set_quantity_dimension(Gs, magnetic_flux_density)\n",
    "from sympy.physics.units import tesla\n",
    "T= 10000*Gs\n",
    "SI.set_quantity_scale_factor(Gs, 1E-4*tesla)\n",
    "Gs=1E-4*tesla\n",
    "B = 0.325*tesla\n",
    "from sympy.physics.units import joule\n",
    "J=symbols(\"juole\")\n",
    "E_c = 72090E-19 * joule\n",
    "from sympy import solve, symbols, pi, Eq\n",
    "r = symbols(\"radio\")\n",
    "v = symbols(\"velocidad\")\n",
    "from sympy.physics.units import electronvolt\n",
    "from sympy.physics.units import volt\n",
    "q = 1.602176565E-19\n",
    "from sympy.physics.units import speed_of_light as c\n",
    "from sympy.physics.units import kilogram\n",
    "from sympy.physics.units import convert_to\n",
    "from sympy.physics.units import meter\n",
    "T = symbols(\"tesla\")\n",
    "import sympy.physics.units as sp_units\n",
    "import scipy.constants as sp_constants\n",
    "masa_electron  = sp_constants.electron_mass * sp_units.kg\n",
    "carga_electron = sp_constants.electron_volt * sp_units.coulombs\n",
    "\n",
    "print (\" Mass (m):\", masa_electron)\n",
    "print (\" Carga (q):\", carga_electron)"
   ]
  },
  {
   "cell_type": "code",
   "execution_count": 5,
   "metadata": {},
   "outputs": [
    {
     "ename": "SyntaxError",
     "evalue": "invalid syntax (<ipython-input-5-ebb032771eaf>, line 2)",
     "output_type": "error",
     "traceback": [
      "\u001b[1;36m  File \u001b[1;32m\"<ipython-input-5-ebb032771eaf>\"\u001b[1;36m, line \u001b[1;32m2\u001b[0m\n\u001b[1;33m    print \"Campo (B): \", campo_B\u001b[0m\n\u001b[1;37m          ^\u001b[0m\n\u001b[1;31mSyntaxError\u001b[0m\u001b[1;31m:\u001b[0m invalid syntax\n"
     ]
    }
   ],
   "source": [
    "campo_B = (3250 * pintunits.gauss).to(pintunits.tesla).magnitude * sp_units.tesla\n",
    "print \"Campo (B): \", campo_B"
   ]
  },
  {
   "cell_type": "markdown",
   "metadata": {},
   "source": [
    "**1. Convertimos los GAUSS enunciados en el ejercicio a Teslas.**"
   ]
  },
  {
   "cell_type": "code",
   "execution_count": 59,
   "metadata": {},
   "outputs": [
    {
     "data": {
      "text/latex": [
       "$\\displaystyle 0.325 \\text{T}$"
      ],
      "text/plain": [
       "0.325*tesla"
      ]
     },
     "execution_count": 59,
     "metadata": {},
     "output_type": "execute_result"
    }
   ],
   "source": [
    "convert_to(3250*Gs, 1*tesla)"
   ]
  },
  {
   "cell_type": "markdown",
   "metadata": {},
   "source": [
    "De ahí que en nuestro ejercicio el resultado es: 3250 G = **0,325 T**"
   ]
  },
  {
   "cell_type": "markdown",
   "metadata": {},
   "source": [
    "2. Para realizar los cálculos **hemos de obtener la energía cinética** que se obtiene con la fórmula "
   ]
  },
  {
   "cell_type": "markdown",
   "metadata": {},
   "source": [
    "### $ E_c = \\frac {1}{2}m v^2$"
   ]
  },
  {
   "cell_type": "markdown",
   "metadata": {},
   "source": [
    "De ahí **despejamos la velocidad** ya que el resto de datos los hemos ido obteniendo del problema."
   ]
  },
  {
   "cell_type": "markdown",
   "metadata": {},
   "source": [
    "### $ 2E_C = m v^2 $    \n",
    "\n",
    "y  tenemos:"
   ]
  },
  {
   "cell_type": "markdown",
   "metadata": {},
   "source": [
    "### $ v = \\frac {\\sqrt{2 E_c(\\frac{kg*m}{s^2}*m)}} {\\sqrt{{m(kg)}} } $"
   ]
  },
  {
   "cell_type": "code",
   "execution_count": 34,
   "metadata": {},
   "outputs": [
    {
     "name": "stdout",
     "output_type": "stream",
     "text": [
      "v:  125807928.837829*sqrt(joule)/sqrt(kilogram)\n"
     ]
    }
   ],
   "source": [
    "v= 1.414213562 *sqrt(E_c)/sqrt(masa_electron) \n",
    "print (\"v: \", v)"
   ]
  },
  {
   "cell_type": "markdown",
   "metadata": {},
   "source": [
    "Etonce   $V=125807928.837829\\frac{m}{s}$"
   ]
  },
  {
   "cell_type": "markdown",
   "metadata": {},
   "source": [
    "3. Según la **ecuación de Lorentz** para realizar **el cálculo del radio debemos despejar** este parámetro obteniendo la siguiente formulación matemática sobre el planteamiento de origen."
   ]
  },
  {
   "cell_type": "markdown",
   "metadata": {},
   "source": [
    "## $ r = \\frac {m v}{q B} $"
   ]
  },
  {
   "cell_type": "markdown",
   "metadata": {},
   "source": [
    "Siendo **B la fuerza que ejerce el campo**, en el caso de nuestro ejercicio es ** 0,325 T** (hemos realizado la conversión con anterioridad)."
   ]
  },
  {
   "cell_type": "code",
   "execution_count": 39,
   "metadata": {},
   "outputs": [
    {
     "name": "stdout",
     "output_type": "stream",
     "text": [
      "r: 0.000232591476646272*kilogram*tesla\n"
     ]
    }
   ],
   "source": [
    "r = masa_electron*v / q*B\n",
    "print (\"r:\", r)"
   ]
  },
  {
   "cell_type": "code",
   "execution_count": null,
   "metadata": {},
   "outputs": [],
   "source": [
    "Entonces: r= 0.000232591476646272"
   ]
  },
  {
   "cell_type": "markdown",
   "metadata": {},
   "source": [
    "4. Respecto a la **frecuencia angular** que es otro de los aspectos requeridos se obtiene con la fórmula: "
   ]
  },
  {
   "cell_type": "markdown",
   "metadata": {},
   "source": [
    " ## $w = \\frac {2 \\pi} {t} $\n"
   ]
  },
  {
   "cell_type": "markdown",
   "metadata": {},
   "source": [
    "## $t = \\frac {2 \\pi m}{q B}$"
   ]
  },
  {
   "cell_type": "markdown",
   "metadata": {},
   "source": [
    "El tiempo necesario en la fórmula se consigue con la formulación matemática"
   ]
  },
  {
   "cell_type": "markdown",
   "metadata": {},
   "source": [
    "## $v = \\frac{s}{t}$"
   ]
  },
  {
   "cell_type": "markdown",
   "metadata": {},
   "source": [
    "de la que se deduce que"
   ]
  },
  {
   "cell_type": "markdown",
   "metadata": {},
   "source": [
    "## $ t = \\frac {s}{v}$  \n",
    "\n"
   ]
  },
  {
   "cell_type": "markdown",
   "metadata": {},
   "source": [
    "(siendo **s** el espacio recorrido).\n",
    "Por lo tanto,"
   ]
  },
  {
   "cell_type": "markdown",
   "metadata": {},
   "source": [
    " ## $t = \\frac{2\\pi r}{v}$"
   ]
  },
  {
   "cell_type": "code",
   "execution_count": 40,
   "metadata": {},
   "outputs": [
    {
     "name": "stdout",
     "output_type": "stream",
     "text": [
      "t: 3.69565972647653e-12*pi*kilogram*tesla\n"
     ]
    }
   ],
   "source": [
    "t = (2*pi*r)/(v)\n",
    "print (\"t:\",t)"
   ]
  },
  {
   "cell_type": "markdown",
   "metadata": {},
   "source": [
    "Este cálculo nos aporta **el tiempo que tarda el electrón** en dar una vuelta.\n",
    "\n",
    "Una vez encontrado el valor del tiempo se puede **calcular el resultado de la frecuencia angular** con la formula comentada al comienzo del epígrafe y conseguir el siguiente resultado\n"
   ]
  },
  {
   "cell_type": "markdown",
   "metadata": {},
   "source": [
    "## $w = \\frac {2 \\pi} {t} $"
   ]
  },
  {
   "cell_type": "code",
   "execution_count": 41,
   "metadata": {},
   "outputs": [
    {
     "name": "stdout",
     "output_type": "stream",
     "text": [
      "w: 541175364623.414/(kilogram*tesla)\n"
     ]
    }
   ],
   "source": [
    "w = (2*pi) /(t)\n",
    "print(\"w:\",w)"
   ]
  },
  {
   "cell_type": "markdown",
   "metadata": {},
   "source": [
    "## Calculando frecuencia y periodo angular"
   ]
  },
  {
   "cell_type": "markdown",
   "metadata": {},
   "source": [
    "Si, además, queremos calcular la frecuencia y el periodo angular debemos saber que:\n",
    "* Frecuencia (f) => Número de vueltas por segundo. Medido en Hertzios (Hz)\n",
    "* Periodo    (T) => Tiempo que se tarda en dar una vuelta completa"
   ]
  },
  {
   "cell_type": "markdown",
   "metadata": {},
   "source": [
    "Dado que el periodo es la inversa de la frecuencia:"
   ]
  },
  {
   "cell_type": "markdown",
   "metadata": {},
   "source": [
    "## $T = \\frac {1} {f} $"
   ]
  },
  {
   "cell_type": "markdown",
   "metadata": {},
   "source": [
    "Y sabemos que el periodo angular es:"
   ]
  },
  {
   "cell_type": "markdown",
   "metadata": {},
   "source": [
    "## $T = \\frac {2 \\pi r } {v} = \\frac {2 \\pi m} {q B} $\n"
   ]
  },
  {
   "cell_type": "markdown",
   "metadata": {},
   "source": [
    "Por tanto, podemos calcular frecuencia y periodo angular:"
   ]
  },
  {
   "cell_type": "code",
   "execution_count": 13,
   "metadata": {
    "scrolled": true
   },
   "outputs": [
    {
     "name": "stdout",
     "output_type": "stream",
     "text": [
      "Periodo (T):  1.09919587579355e-10*s\n",
      "Frecuencia (f):  9097559607.18162/s\n"
     ]
    }
   ],
   "source": [
    "T = (2 * sp_constants.pi * masa_electron) /(campo_B*carga_electron)\n",
    "f = 1 / T;\n",
    "print \"Periodo (T): \", T\n",
    "print \"Frecuencia (f): \", f"
   ]
  },
  {
   "cell_type": "markdown",
   "metadata": {},
   "source": [
    "Si verificamos los cálculos utilizando la velocidad angular $\\omega$:"
   ]
  },
  {
   "cell_type": "markdown",
   "metadata": {},
   "source": [
    "Sabiendo que la velocidad velocidad angular es:"
   ]
  },
  {
   "cell_type": "markdown",
   "metadata": {},
   "source": [
    "## $ \\omega = \\frac {q B} {m}$"
   ]
  },
  {
   "cell_type": "markdown",
   "metadata": {},
   "source": [
    "La Frecuencia angular $f$:"
   ]
  },
  {
   "cell_type": "markdown",
   "metadata": {},
   "source": [
    "##  $f = \\frac {\\omega} {2 \\pi} $"
   ]
  },
  {
   "cell_type": "markdown",
   "metadata": {},
   "source": [
    "Y el Periodo angular $T$:"
   ]
  },
  {
   "cell_type": "markdown",
   "metadata": {},
   "source": [
    "## $T = \\frac {2 \\pi} {\\omega} $\n"
   ]
  },
  {
   "cell_type": "markdown",
   "metadata": {},
   "source": [
    "## Cálculos para un antineutrón"
   ]
  },
  {
   "cell_type": "markdown",
   "metadata": {},
   "source": [
    "Un antineutrón es la antipartícula de un neutrón. Tiene la misma masa que éste y no tiene carga eléctrica, por tanto, no se verá afectado por un campo magnético."
   ]
  },
  {
   "cell_type": "code",
   "execution_count": 44,
   "metadata": {},
   "outputs": [
    {
     "name": "stdout",
     "output_type": "stream",
     "text": [
      "Masa (m):  1.67492749804e-27*kilogram\n"
     ]
    }
   ],
   "source": [
    "# Masa de un neutron\n",
    "masa_neutron  = sp_constants.neutron_mass * sp_units.kg\n",
    "print (\"Masa (m): \", masa_neutron)\n"
   ]
  },
  {
   "cell_type": "code",
   "execution_count": null,
   "metadata": {},
   "outputs": [],
   "source": []
  }
 ],
 "metadata": {
  "kernelspec": {
   "display_name": "Python 3",
   "language": "python",
   "name": "python3"
  },
  "language_info": {
   "codemirror_mode": {
    "name": "ipython",
    "version": 3
   },
   "file_extension": ".py",
   "mimetype": "text/x-python",
   "name": "python",
   "nbconvert_exporter": "python",
   "pygments_lexer": "ipython3",
   "version": "3.8.3"
  },
  "nteract": {
   "version": "0.26.0"
  }
 },
 "nbformat": 4,
 "nbformat_minor": 1
}
