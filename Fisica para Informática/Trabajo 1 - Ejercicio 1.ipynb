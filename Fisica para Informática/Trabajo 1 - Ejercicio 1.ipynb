{
 "cells": [
  {
   "cell_type": "markdown",
   "metadata": {},
   "source": [
    "# Primer ejercicio\n",
    "## Enunciado\n",
    "Un electrón con una capacidad de trabajo de $72090×10^{−19}$ J orbita de manera perpendicular a un campo magnético de __3250 G__. ¿Cuál es el radio de la órbita? ¿Y su frecuencia y periodo angular? Resuelve el mismo ejercicio para un antineutrón.\n",
    "\n",
    "<img src=\"https://i.imgur.com/3cbe7if.gif\" />\n",
    "\n",
    "## Planteamiento\n",
    "Cuando una carga atraviesa perpendicularmente un campo magnético experimenta una fuerza que le produce una desviación en la dirección, es decir, se curva la trayetoria de esa carga. \n",
    "\n",
    "La fuerza experimentada será perpendicular al vector dirección que lleva esa partícula.\n",
    "\n",
    "Hay que calcular el radio de esa curvatura.\n",
    "\n",
    "Inicializamos el entorno de Python para los cálculos"
   ]
  },
  {
   "cell_type": "code",
   "execution_count": 16,
   "metadata": {},
   "outputs": [],
   "source": []
  },
  {
   "cell_type": "markdown",
   "metadata": {},
   "source": [
    "Partimos de los datos del enunciado:"
   ]
  },
  {
   "cell_type": "markdown",
   "metadata": {},
   "source": [
    "1. De un electrón, conocemos su masa y su carga"
   ]
  },
  {
   "cell_type": "code",
   "execution_count": 3,
   "metadata": {},
   "outputs": [
    {
     "ename": "SyntaxError",
     "evalue": "invalid syntax (<ipython-input-3-57cb3c50d690>, line 4)",
     "output_type": "error",
     "traceback": [
      "\u001b[1;36m  File \u001b[1;32m\"<ipython-input-3-57cb3c50d690>\"\u001b[1;36m, line \u001b[1;32m4\u001b[0m\n\u001b[1;33m    print \"Masa (m): \", masa_electron\u001b[0m\n\u001b[1;37m          ^\u001b[0m\n\u001b[1;31mSyntaxError\u001b[0m\u001b[1;31m:\u001b[0m invalid syntax\n"
     ]
    }
   ],
   "source": [
    "masa_electron  = sp_constants.electron_mass * sp_units.kg\n",
    "carga_electron = sp_constants.electron_volt * sp_units.coulombs\n",
    "masa_electron = 1.6 * * kg\n",
    "\n",
    "print(\"Masa (m): \", masa_electron)\n",
    "print(\"Carga (q): \", carga_electron)"
   ]
  },
  {
   "cell_type": "markdown",
   "metadata": {},
   "source": [
    "2. Tenemos la fuerza del campo magnético son 3250 Gauss que convertimos a Teslas, la unidad del sistema internacional"
   ]
  },
  {
   "cell_type": "code",
   "execution_count": null,
   "metadata": {},
   "outputs": [],
   "source": [
    "campo_B = (3250 * pintunits.gauss).to(pintunits.tesla).magnitude * sp_units.tesla\n",
    "print \"Campo (B): \", campo_B"
   ]
  },
  {
   "cell_type": "markdown",
   "metadata": {},
   "source": [
    "3. Tenemos la energía cinética que produce ese electrón, en Julios"
   ]
  },
  {
   "cell_type": "code",
   "execution_count": null,
   "metadata": {},
   "outputs": [],
   "source": [
    "E_c = 72090E-19 * sp_units.joule\n",
    "print \"Energía cinética\", E_c"
   ]
  },
  {
   "cell_type": "markdown",
   "metadata": {},
   "source": [
    "## Ecuaciones a utilizar"
   ]
  },
  {
   "cell_type": "markdown",
   "metadata": {},
   "source": [
    "* ### Ecuación de Lorenz"
   ]
  },
  {
   "cell_type": "markdown",
   "metadata": {},
   "source": [
    "$F = q_e v_e B$"
   ]
  },
  {
   "cell_type": "markdown",
   "metadata": {},
   "source": [
    "donde aplicamos que $F = \\frac {m v^2}{r}$ (ley de Newton)"
   ]
  },
  {
   "cell_type": "markdown",
   "metadata": {},
   "source": [
    "$q_e v_e B= \\frac {m_e * v_e^2}{r}$"
   ]
  },
  {
   "cell_type": "markdown",
   "metadata": {},
   "source": [
    "* ### Ecuación de Energía Cinética de un cuerpo en movimiento"
   ]
  },
  {
   "cell_type": "markdown",
   "metadata": {},
   "source": [
    "$ E_c = \\frac {1}{2}m v^2$"
   ]
  },
  {
   "cell_type": "markdown",
   "metadata": {},
   "source": [
    "Despejando en esta ecuación"
   ]
  },
  {
   "cell_type": "markdown",
   "metadata": {},
   "source": [
    "$ 2E_C = m v^2 $    y     $ v = \\frac {\\sqrt{2 E_c}} {\\sqrt{{m}} } $"
   ]
  },
  {
   "cell_type": "markdown",
   "metadata": {},
   "source": [
    "y sustituyendo en la de Lorenz tenemos que:"
   ]
  },
  {
   "cell_type": "markdown",
   "metadata": {},
   "source": [
    "$ \\frac {\\sqrt{2 E_c} B q_e} {\\sqrt{m_e}} = \\frac {2 E_c}{r}$"
   ]
  },
  {
   "cell_type": "markdown",
   "metadata": {},
   "source": [
    "y despejando el radio, que es lo que queremos calcular, tenemos la siguiente ecuación"
   ]
  },
  {
   "cell_type": "markdown",
   "metadata": {},
   "source": [
    "$r = \\frac {\\sqrt{2 E_c m}} {B q} $"
   ]
  },
  {
   "cell_type": "markdown",
   "metadata": {},
   "source": [
    "## Resolución"
   ]
  },
  {
   "cell_type": "markdown",
   "metadata": {},
   "source": [
    "Sustituyendo los valores en la ecuación anterior:"
   ]
  },
  {
   "cell_type": "code",
   "execution_count": null,
   "metadata": {},
   "outputs": [],
   "source": [
    "radio = sqrt(2)*sqrt(E_c)*sqrt(masa_electron) /(campo_B*carga_electron)\n",
    "print(\"Radio: \", radio)\n",
    "\n",
    "# Normalizando el numero irracional \n",
    "print(\"Normalizado: \", N(radio))"
   ]
  },
  {
   "cell_type": "markdown",
   "metadata": {},
   "source": [
    "## Calculando frecuencia y periodo angular"
   ]
  },
  {
   "cell_type": "markdown",
   "metadata": {},
   "source": [
    "Si, además, queremos calcular la frecuencia y el periodo angular debemos saber que:\n",
    "* Frecuencia (f) => Número de vueltas por segundo. Medido en Hertzios (Hz)\n",
    "* Periodo    (T) => Tiempo que se tarda en dar una vuelta completa"
   ]
  },
  {
   "cell_type": "markdown",
   "metadata": {},
   "source": [
    "Dado que el periodo es la inversa de la frecuencia $T = \\frac {1} {f} $"
   ]
  },
  {
   "cell_type": "markdown",
   "metadata": {},
   "source": [
    "Y sabemos que el periodo angular es $T = \\frac {2 \\pi r } {v} = \\frac {2 \\pi m} {q B} $\n"
   ]
  },
  {
   "cell_type": "markdown",
   "metadata": {},
   "source": [
    "Por tanto, podemos calcular frecuencia y periodo angular:"
   ]
  },
  {
   "cell_type": "code",
   "execution_count": 13,
   "metadata": {
    "scrolled": true
   },
   "outputs": [
    {
     "name": "stdout",
     "output_type": "stream",
     "text": [
      "Periodo (T):  1.09919587579355e-10*s\n",
      "Frecuencia (f):  9097559607.18162/s\n"
     ]
    }
   ],
   "source": [
    "T = (2 * sp_constants.pi * masa_electron) /(campo_B*carga_electron)\n",
    "f = 1 / T;\n",
    "print \"Periodo (T): \", T\n",
    "print \"Frecuencia (f): \", f"
   ]
  },
  {
   "cell_type": "markdown",
   "metadata": {},
   "source": [
    "Si verificamos los cálculos utilizando la velocidad angular $\\omega$:"
   ]
  },
  {
   "cell_type": "code",
   "execution_count": 12,
   "metadata": {},
   "outputs": [
    {
     "ename": "NameError",
     "evalue": "name 'sqrt' is not defined",
     "output_type": "error",
     "traceback": [
      "\u001b[1;31m---------------------------------------------------------------------------\u001b[0m",
      "\u001b[1;31mNameError\u001b[0m                                 Traceback (most recent call last)",
      "\u001b[1;32m<ipython-input-12-04bb31014894>\u001b[0m in \u001b[0;36m<module>\u001b[1;34m\u001b[0m\n\u001b[1;32m----> 1\u001b[1;33m \u001b[0mv_a\u001b[0m \u001b[1;33m=\u001b[0m \u001b[0msqrt\u001b[0m\u001b[1;33m(\u001b[0m\u001b[1;36m2\u001b[0m\u001b[1;33m)\u001b[0m\u001b[1;33m*\u001b[0m\u001b[0msqrt\u001b[0m\u001b[1;33m(\u001b[0m\u001b[0mE_c\u001b[0m\u001b[1;33m)\u001b[0m\u001b[1;33m/\u001b[0m\u001b[0msqrt\u001b[0m\u001b[1;33m(\u001b[0m\u001b[0mmasa_electron\u001b[0m\u001b[1;33m)\u001b[0m\u001b[1;33m\u001b[0m\u001b[1;33m\u001b[0m\u001b[0m\n\u001b[0m\u001b[0;32m      2\u001b[0m \u001b[0mprint\u001b[0m \u001b[1;33m(\u001b[0m\u001b[1;34m\"v_a: \"\u001b[0m\u001b[1;33m,\u001b[0m \u001b[0mv_a\u001b[0m\u001b[1;33m)\u001b[0m\u001b[1;33m\u001b[0m\u001b[1;33m\u001b[0m\u001b[0m\n",
      "\u001b[1;31mNameError\u001b[0m: name 'sqrt' is not defined"
     ]
    }
   ],
   "source": [
    "va = sqrt(2)*sqrt(E_c)/sqrt(masa_electron) \n",
    "print (\"v_a: \", v_a)"
   ]
  },
  {
   "cell_type": "markdown",
   "metadata": {},
   "source": [
    "Sabiendo que la velocidad velocidad angular es:"
   ]
  },
  {
   "cell_type": "markdown",
   "metadata": {},
   "source": [
    "$ \\omega = \\frac {q B} {m}$"
   ]
  },
  {
   "cell_type": "markdown",
   "metadata": {},
   "source": [
    "La Frecuencia angular $f$:"
   ]
  },
  {
   "cell_type": "markdown",
   "metadata": {},
   "source": [
    "$f = \\frac {\\omega} {2 \\pi} $"
   ]
  },
  {
   "cell_type": "markdown",
   "metadata": {},
   "source": [
    "Y el Periodo angular $T$:"
   ]
  },
  {
   "cell_type": "markdown",
   "metadata": {},
   "source": [
    "$T = \\frac {2 \\pi} {\\omega} $\n"
   ]
  },
  {
   "cell_type": "code",
   "execution_count": 5,
   "metadata": {},
   "outputs": [
    {
     "ename": "SyntaxError",
     "evalue": "Missing parentheses in call to 'print'. Did you mean print(\"Velocidad angular: \", v_a)? (<ipython-input-5-ff5a92611520>, line 6)",
     "output_type": "error",
     "traceback": [
      "\u001b[1;36m  File \u001b[1;32m\"<ipython-input-5-ff5a92611520>\"\u001b[1;36m, line \u001b[1;32m6\u001b[0m\n\u001b[1;33m    print \"Velocidad angular: \", v_a\u001b[0m\n\u001b[1;37m          ^\u001b[0m\n\u001b[1;31mSyntaxError\u001b[0m\u001b[1;31m:\u001b[0m Missing parentheses in call to 'print'. Did you mean print(\"Velocidad angular: \", v_a)?\n"
     ]
    }
   ],
   "source": [
    "v_a = (campo_B*carga_electron) / masa_electron\n",
    "\n",
    "T_a = (2 * sp_constants.pi) / v_a\n",
    "f_a = v_a / (2 * sp_constants.pi)\n",
    "\n",
    "print \"Velocidad angular: \", v_a\n",
    "print \"Periodo: \", T_a\n",
    "print \"Frecuencia: \", f_a"
   ]
  },
  {
   "cell_type": "markdown",
   "metadata": {},
   "source": [
    "## Cálculos para un antineutrón"
   ]
  },
  {
   "cell_type": "markdown",
   "metadata": {},
   "source": [
    "Un antineutrón es la antipartícula de un neutrón. Tiene la misma masa que éste y no tiene carga eléctrica, por tanto, no se verá afectado por un campo magnético."
   ]
  },
  {
   "cell_type": "code",
   "execution_count": 15,
   "metadata": {},
   "outputs": [
    {
     "name": "stdout",
     "output_type": "stream",
     "text": [
      "Masa (m):  1.674927351e-27*kg\n"
     ]
    }
   ],
   "source": [
    "# Masa de un neutron\n",
    "masa_neutron  = sp_constants.neutron_mass * sp_units.kg\n",
    "print \"Masa (m): \", masa_neutron\n"
   ]
  }
 ],
 "metadata": {
  "kernelspec": {
   "display_name": "Python 3",
   "language": "python",
   "name": "python3"
  },
  "language_info": {
   "codemirror_mode": {
    "name": "ipython",
    "version": 3
   },
   "file_extension": ".py",
   "mimetype": "text/x-python",
   "name": "python",
   "nbconvert_exporter": "python",
   "pygments_lexer": "ipython3",
   "version": "3.8.5-final"
  }
 },
 "nbformat": 4,
 "nbformat_minor": 1
}