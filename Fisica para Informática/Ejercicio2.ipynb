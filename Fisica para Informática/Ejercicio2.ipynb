{
 "metadata": {
  "language_info": {
   "codemirror_mode": {
    "name": "ipython",
    "version": 3
   },
   "file_extension": ".py",
   "mimetype": "text/x-python",
   "name": "python",
   "nbconvert_exporter": "python",
   "pygments_lexer": "ipython3",
   "version": "3.8.5-final"
  },
  "orig_nbformat": 2,
  "kernelspec": {
   "name": "python3",
   "display_name": "Python 3"
  }
 },
 "nbformat": 4,
 "nbformat_minor": 2,
 "cells": [
  {
   "source": [
    "# Ejercicio 2\n",
    "### Solucion de problema\n",
    "Un electrón con una capacidad de trabajo de 72090×10−19 J orbita de manera perpendicular a un campo magnético de 3250 G. ¿Cuál es el\n",
    "radio de la órbita? ¿Y su frecuencia y periodo angular? Resuelve el mismo ejercicio para un antineutrón.\n",
    "\n",
    "![Grafico1](https://3.bp.blogspot.com/-w1SdXEhjjdI/WD3bnL03SSI/AAAAAAAAAFc/wcCBPkGogXci62BB7b_HotRS3nyw1SuMgCLcB/s320/Imagen1.png)"
   ],
   "cell_type": "markdown",
   "metadata": {}
  },
  {
   "source": [
    "Instalamos los paquetes de sympy "
   ],
   "cell_type": "markdown",
   "metadata": {}
  },
  {
   "cell_type": "code",
   "execution_count": 13,
   "metadata": {},
   "outputs": [],
   "source": [
    "#Importar objetos directos de Sympy\n",
    "from sympy import solve, Eq\n",
    "import sympy as sym\n",
    "from sympy import *\n",
    "import sympy.physics.units as sym_units\n",
    "from sympy.physics.units import second, convert_to"
   ]
  },
  {
   "source": [
    "Se conoce la carga y la masa de un electrón"
   ],
   "cell_type": "markdown",
   "metadata": {}
  },
  {
   "cell_type": "code",
   "execution_count": 14,
   "metadata": {},
   "outputs": [],
   "source": [
    "masa_electron = 9.10938291e-31 * sym_units.kg\n",
    "carga_electron = 1.602176565e-19 * sym_units.coulombs"
   ]
  },
  {
   "cell_type": "code",
   "execution_count": 15,
   "metadata": {},
   "outputs": [
    {
     "output_type": "stream",
     "name": "stdout",
     "text": [
      "Masa del electrón:\n"
     ]
    },
    {
     "output_type": "execute_result",
     "data": {
      "text/plain": [
       "9.10938291e-31*kilogram"
      ],
      "text/latex": "$\\displaystyle 9.10938291 \\cdot 10^{-31} \\text{kg}$"
     },
     "metadata": {},
     "execution_count": 15
    }
   ],
   "source": [
    "print(\"Masa del electrón:\")\n",
    "convert_to(masa_electron, [sym_units.kg])"
   ]
  },
  {
   "cell_type": "code",
   "execution_count": 16,
   "metadata": {},
   "outputs": [
    {
     "output_type": "stream",
     "name": "stdout",
     "text": [
      "Carga del electrón: \n"
     ]
    },
    {
     "output_type": "execute_result",
     "data": {
      "text/plain": [
       "1.602176565e-19*coulomb"
      ],
      "text/latex": "$\\displaystyle 1.602176565 \\cdot 10^{-19} \\text{C}$"
     },
     "metadata": {},
     "execution_count": 16
    }
   ],
   "source": [
    "print(\"Carga del electrón: \")\n",
    "convert_to(carga_electron, [sym_units.coulomb])"
   ]
  },
  {
   "source": [
    "Del enunciado tenemos la fuerza del campo magnético son 3250 Gauss lo convertiremos a Teslas SI"
   ],
   "cell_type": "markdown",
   "metadata": {}
  },
  {
   "cell_type": "code",
   "execution_count": 17,
   "metadata": {},
   "outputs": [
    {
     "output_type": "execute_result",
     "data": {
      "text/plain": [
       "0.325*tesla"
      ],
      "text/latex": "$\\displaystyle 0.325 \\text{T}$"
     },
     "metadata": {},
     "execution_count": 17
    }
   ],
   "source": [
    "campo_magnetico = 3250e-4*sym_units.tesla\n",
    "campo_magnetico"
   ]
  },
  {
   "source": [
    "Se tiene la energía cinética que produce el electróon, en Julios"
   ],
   "cell_type": "markdown",
   "metadata": {}
  },
  {
   "cell_type": "code",
   "execution_count": 18,
   "metadata": {},
   "outputs": [
    {
     "output_type": "execute_result",
     "data": {
      "text/plain": [
       "7.209e-15*joule"
      ],
      "text/latex": "$\\displaystyle 7.209 \\cdot 10^{-15} \\text{J}$"
     },
     "metadata": {},
     "execution_count": 18
    }
   ],
   "source": [
    "E_k = 72090e-19 *sym_units.joule\n",
    "E_k"
   ]
  },
  {
   "source": [
    "La Ecuaciones que se van a utilizar son:\n",
    "### La Ecuación de Lorenz\n",
    "$$F=q_e \\cdot v_e \\cdot B $$\n",
    "##La ecuación de la Ley de Newton\n",
    "$$F=\\frac{m\\cdot v^2}{r}$$\n",
    "Igualamos las ecuaciones de Lorenz y la ley de Newton\n",
    "$$q_e \\cdot v_e \\cdot B = \\frac{m_e * v_e^2}{r}$$"
   ],
   "cell_type": "markdown",
   "metadata": {}
  },
  {
   "source": [
    "### La ecuación de la energía cinética de un cuerpo en movimiento\n",
    "$$Ec=\\frac{1}{2}mv^2$$\n",
    "Despejando en esta ecuación:\n",
    "$$2Ec=mv^2$$\n",
    "$$v=\\frac{\\sqrt{2Ec}}{\\sqrt{m}}$$\n",
    "y sustituyendo en la de Lorenz tenemos que:\n",
    "$$\\frac{\\sqrt{2E_cBq_e}}{\\sqrt{m_e}} = \\frac{2E_c}{r}$$\n",
    "Para obtener el radio de la órbita despejando el radio:\n",
    "\n",
    "$$r=\\frac{\\sqrt{2E_c m}}{Bq}$$"
   ],
   "cell_type": "markdown",
   "metadata": {}
  },
  {
   "cell_type": "code",
   "execution_count": 19,
   "metadata": {},
   "outputs": [
    {
     "output_type": "execute_result",
     "data": {
      "text/plain": [
       "0.0022009149150341*joule**0.5*kilogram**0.5/(coulomb*tesla)"
      ],
      "text/latex": "$\\displaystyle \\frac{0.0022009149150341 \\text{J}^{0.5} \\text{kg}^{0.5}}{\\text{C} \\text{T}}$"
     },
     "metadata": {},
     "execution_count": 19
    }
   ],
   "source": [
    "#Sustituyendo los valores en la ecuación anterior\n",
    "radio=sqrt(2)*sqrt(E_k)*sqrt(masa_electron)/(campo_magnetico*carga_electron)\n",
    "#Normalizando el numero irracional\n",
    "N(radio)"
   ]
  },
  {
   "source": [
    "### Calculando frecuencia y periodo angular\n",
    "-**Frecuencia(f)**= Número de vueltas por segundo ***(Hz)***\n",
    "-**Periodo(T)**= Tiempo que se tarda en dar una vuelta completa. Inverso a la frecuencia $$T=\\frac{1}{f}$$\n",
    "Se sabe que el periodo angular es $$T=\\frac{2\\pi r}{v} = \\frac{2\\pi m}{qB}$$\n",
    "\n",
    "Por lo tanto se calcula la frecuencia y el periodo angular: "
   ],
   "cell_type": "markdown",
   "metadata": {}
  },
  {
   "cell_type": "code",
   "execution_count": 21,
   "metadata": {},
   "outputs": [
    {
     "output_type": "stream",
     "name": "stdout",
     "text": [
      "Periodo: 1.09919587593707e-10*second\nFrecuencia : 9097559605.99373/second\n"
     ]
    }
   ],
   "source": [
    "#Se define pi\n",
    "pi=3.141592654\n",
    "T=(2*pi*masa_electron)/(campo_magnetico*carga_electron)\n",
    "T=convert_to(T,[sym_units.second])\n",
    "f=1/T\n",
    "print(\"Periodo:\", T)\n",
    "print(\"Frecuencia :\", f)"
   ]
  },
  {
   "source": [
    "Verficacion de los calculos con la velocidad angular:\n",
    "\n",
    "Siendo la velocidad angula: $$W=\\frac{qB}{m}$$\n",
    "La frecuencia angula: $f=\\frac{w}{2\\pi}$ y el periodo angular: $T=\\frac{2\\pi}{w}$"
   ],
   "cell_type": "markdown",
   "metadata": {}
  },
  {
   "cell_type": "code",
   "execution_count": 22,
   "metadata": {},
   "outputs": [
    {
     "output_type": "stream",
     "name": "stdout",
     "text": [
      "Velocidad angular:  57161652855.0341/second \nPeriodo angular:  1.09919587593707e-10*second \nFrecuencia_angular:  9097559605.99373/second\n"
     ]
    }
   ],
   "source": [
    "V_angular =(campo_magnetico*carga_electron)/masa_electron\n",
    "V_a=convert_to(V_angular,[sym_units.meters,sym_units.second])\n",
    "T_angular= (2*pi)/V_a\n",
    "f_angular = V_a/(2*pi)\n",
    "print(\"Velocidad angular: \",V_a,\"\\nPeriodo angular: \",T_angular,\"\\nFrecuencia_angular: \",f_angular)"
   ]
  },
  {
   "source": [
    "### Cálculo para un antineutrón\n",
    "El antineutrón no tiene carga eléctrica por lo tanto no es afectado por un campo magnético."
   ],
   "cell_type": "markdown",
   "metadata": {}
  },
  {
   "cell_type": "code",
   "execution_count": 23,
   "metadata": {},
   "outputs": [
    {
     "output_type": "stream",
     "name": "stdout",
     "text": [
      "Masa del neutrón: \n"
     ]
    },
    {
     "output_type": "execute_result",
     "data": {
      "text/plain": [
       "1.6749e-23*kilogram"
      ],
      "text/latex": "$\\displaystyle 1.6749 \\cdot 10^{-23} \\text{kg}$"
     },
     "metadata": {},
     "execution_count": 23
    }
   ],
   "source": [
    "#Masa de neutron\n",
    "masa_neutron = 16749e-27 * sym_units.kilogram\n",
    "print(\"Masa del neutrón: \")\n",
    "convert_to(masa_neutron, sym_units.kg)"
   ]
  }
 ]
}